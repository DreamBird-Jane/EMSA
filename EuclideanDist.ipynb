{
 "cells": [
  {
   "cell_type": "code",
   "execution_count": 1,
   "metadata": {
    "collapsed": true
   },
   "outputs": [],
   "source": [
    "%matplotlib inline\n",
    "import pandas as pd\n",
    "import emsalib as emsa\n",
    "import matplotlib.pyplot as plt"
   ]
  },
  {
   "cell_type": "code",
   "execution_count": 2,
   "metadata": {
    "collapsed": true
   },
   "outputs": [],
   "source": [
    "dataset_path = 'data/Alice.csv'\n",
    "header = pd.read_csv(dataset_path, nrows=1, header=None)\n",
    "header = header.values[0]\n",
    "alice = pd.read_csv(dataset_path)"
   ]
  },
  {
   "cell_type": "code",
   "execution_count": 4,
   "metadata": {},
   "outputs": [
    {
     "name": "stdout",
     "output_type": "stream",
     "text": [
      "61.989356741963164\n0.0\n61.989356741963164\n0.0\n"
     ]
    }
   ],
   "source": [
    "ts = alice['Timestamp'].values\n",
    "ts_orig = ts - min(ts)\n",
    "axis = [alice['Axis' + str(i+1)].values for i in range(3)]\n",
    "\n",
    "axis0 = emsa.TimeSeries(ts=ts, ys=axis[0])\n",
    "axis1 = emsa.TimeSeries(ts=ts, ys=axis[1])\n",
    "\n",
    "print(axis0.euclideanDist(axis1))\n",
    "print(axis0.euclideanDist(axis0))\n",
    "print(axis1.euclideanDist(axis0))\n",
    "print(axis1.euclideanDist(axis1))\n",
    "\n",
    "\n"
   ]
  },
  {
   "cell_type": "code",
   "execution_count": null,
   "metadata": {},
   "outputs": [],
   "source": []
  }
 ],
 "metadata": {
  "kernelspec": {
   "display_name": "Python 3",
   "language": "python",
   "name": "python3"
  },
  "language_info": {
   "codemirror_mode": {
    "name": "ipython",
    "version": 3
   },
   "file_extension": ".py",
   "mimetype": "text/x-python",
   "name": "python",
   "nbconvert_exporter": "python",
   "pygments_lexer": "ipython3",
   "version": "3.6.1"
  }
 },
 "nbformat": 4,
 "nbformat_minor": 2
}
