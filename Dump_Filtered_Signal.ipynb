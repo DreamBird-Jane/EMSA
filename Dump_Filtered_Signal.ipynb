{
 "cells": [
  {
   "cell_type": "code",
   "execution_count": 16,
   "metadata": {},
   "outputs": [],
   "source": [
    "%matplotlib notebook\n",
    "import matplotlib\n",
    "import pandas as pd\n",
    "import datetime as dt\n",
    "import numpy as np\n",
    "import matplotlib.pyplot as plt\n",
    "from scipy import signal, interpolate,fftpack\n",
    "import csv"
   ]
  },
  {
   "cell_type": "code",
   "execution_count": 31,
   "metadata": {},
   "outputs": [],
   "source": [
    "data_dir = '../datasets/slipperData/'\n",
    "filter_dir = '../datasets/filteredData/'\n",
    "data_name = 'Alice.csv'\n",
    "header = pd.read_csv(data_dir + data_name, nrows=1, header=None)\n",
    "header = header.values[0]"
   ]
  },
  {
   "cell_type": "code",
   "execution_count": 32,
   "metadata": {},
   "outputs": [],
   "source": [
    "#alice = pd.read_csv('Project/slipperData/Alice.csv', nrows=5000,skiprows=400,names=header)\n",
    "alice = pd.read_csv('../datasets/slipperData/Alice.csv', skiprows=1, names=header)"
   ]
  },
  {
   "cell_type": "code",
   "execution_count": 33,
   "metadata": {},
   "outputs": [],
   "source": [
    "ts = alice['Timestamp'].values\n",
    "ts_orig = ts - min(ts)\n",
    "axis = [alice['Axis' + str(i+1)].values for i in range(3)]"
   ]
  },
  {
   "cell_type": "code",
   "execution_count": 34,
   "metadata": {},
   "outputs": [],
   "source": [
    "fs = 33\n",
    "ps = 1/fs\n",
    "n = np.int16(8192)\n",
    "freq = np.linspace(0, fs/2, num=int(n//2))\n",
    "ts_new =  np.arange(min(ts_orig), max(ts_orig), ps)\n",
    "axis_interpolant = [interpolate.interp1d(ts_orig, axis[i]) for i in range(3) ]\n",
    "axis_new = [axis_interpolant[i](ts_new) for i in range(3) ]"
   ]
  },
  {
   "cell_type": "code",
   "execution_count": 35,
   "metadata": {},
   "outputs": [],
   "source": [
    "axis_new = [axis_new[i] - np.mean(axis_new[i]) for i in range(3)]"
   ]
  },
  {
   "cell_type": "code",
   "execution_count": 70,
   "metadata": {},
   "outputs": [
    {
     "data": {
      "text/plain": [
       "(10, 20)"
      ]
     },
     "execution_count": 70,
     "metadata": {},
     "output_type": "execute_result"
    }
   ],
   "source": [
    "filter_length = 5\n",
    "win = np.ones(filter_length)\n",
    "i=1\n",
    "axis_lpf = [signal.convolve(axis_new[i], win, mode='same') / filter_length for i in range(3)]\n",
    "\n",
    "import csv\n",
    "with open(filter_dir + data_name, 'w') as csvfile:\n",
    "    csvw = csv.writer(csvfile, delimiter=',', quotechar='|', quoting=csv.QUOTE_MINIMAL)\n",
    "    csvw.writerow([\"Time\", \"Axis 1\", \"Axis 2\", \"Axis 3\"])\n",
    "    for i in range(len(ts_new)):\n",
    "        csvw.writerow([ts_new[i], axis_lpf[0][i], axis_lpf[1][i], axis_lpf[2][i]])\n",
    "        \n",
    "plt.plot(ts_new, axis_lpf[0])\n",
    "plt.xlim([10,20])\n"
   ]
  },
  {
   "cell_type": "code",
   "execution_count": null,
   "metadata": {
    "collapsed": true
   },
   "outputs": [],
   "source": []
  }
 ],
 "metadata": {
  "kernelspec": {
   "display_name": "Python 3",
   "language": "python",
   "name": "python3"
  },
  "language_info": {
   "codemirror_mode": {
    "name": "ipython",
    "version": 3
   },
   "file_extension": ".py",
   "mimetype": "text/x-python",
   "name": "python",
   "nbconvert_exporter": "python",
   "pygments_lexer": "ipython3",
   "version": "3.6.2"
  }
 },
 "nbformat": 4,
 "nbformat_minor": 2
}
